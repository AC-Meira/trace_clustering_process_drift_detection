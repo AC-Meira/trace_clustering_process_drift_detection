{
 "cells": [
  {
   "cell_type": "code",
   "execution_count": null,
   "metadata": {},
   "outputs": [],
   "source": [
    "import pandas as pd\n",
    "import numpy as np\n",
    "\n",
    "from tqdm import tqdm\n",
    "\n",
    "import matplotlib.pyplot as plt\n",
    "# plt.rcParams[\"font.family\"] = \"Times New Roman\"\n",
    "# plt.rcParams[\"font.size\"] = 16\n",
    "import seaborn as sns\n",
    "# sns.set_style(\"white\")\n",
    "\n",
    "import warnings\n",
    "warnings.filterwarnings(\"ignore\")\n",
    "\n",
    "# %load_ext autoreload\n",
    "# %autoreload 2\n",
    "\n",
    "# My packages\n",
    "from source import parse_mxml as pm\n",
    "from source import log_representation as lr\n",
    "from source import plots as plts\n",
    "from source import drift_detection as dd\n",
    "from source import drift_localization as dl\n",
    "from source import offline_streaming_clustering as off_sc\n",
    "from sklearn.cluster import KMeans\n",
    "from sklearn.cluster import DBSCAN\n",
    "import hdbscan\n",
    "\n",
    "from sklearn.base import clone as sk_clone \n",
    "\n",
    "import random\n",
    "random.seed(42)\n",
    "\n",
    "import os\n",
    "import glob\n",
    "\n",
    "import gc\n",
    "gc.enable()\n",
    "\n",
    "pd.set_option('display.max_rows', 500)\n",
    "pd.set_option('display.max_columns', 100)\n",
    "pd.set_option('display.max_colwidth', 100)"
   ]
  },
  {
   "cell_type": "code",
   "execution_count": null,
   "metadata": {},
   "outputs": [],
   "source": [
    "def insensitive_glob(pattern):\n",
    "    def either(c):\n",
    "        return '[%s%s]' % (c.lower(), c.upper()) if c.isalpha() else c\n",
    "    return glob.glob(''.join(map(either, pattern)))\n",
    "\n",
    "def if_any(string, lista):\n",
    "    for l in lista:\n",
    "        if l in string:\n",
    "            return True\n",
    "    return False"
   ]
  },
  {
   "cell_type": "code",
   "execution_count": null,
   "metadata": {},
   "outputs": [],
   "source": [
    "logs = insensitive_glob(\"../../../../../../../Datasets/Business_Process_Drift_Logs/Logs/*/*k.MXML\")"
   ]
  },
  {
   "cell_type": "code",
   "execution_count": null,
   "metadata": {},
   "outputs": [],
   "source": [
    "logs = [x for x in logs if \"2.5\" not in x]"
   ]
  },
  {
   "cell_type": "code",
   "execution_count": null,
   "metadata": {
    "scrolled": true
   },
   "outputs": [],
   "source": [
    "logs"
   ]
  },
  {
   "cell_type": "markdown",
   "metadata": {},
   "source": [
    "### Read and Prep log file"
   ]
  },
  {
   "cell_type": "code",
   "execution_count": null,
   "metadata": {},
   "outputs": [],
   "source": [
    "# logs[39]\n",
    "# logs[39]\n",
    "# logs[24]\n",
    "logs[15]"
   ]
  },
  {
   "cell_type": "code",
   "execution_count": null,
   "metadata": {},
   "outputs": [],
   "source": [
    "log = logs[16]\n",
    "print(log)\n",
    "log_read = pm.all_prep(log)\n",
    "tokens = lr.get_traces_as_tokens(log_read)\n",
    "y_true = list(range(int(len(tokens)/10), len(tokens), int(len(tokens)/10)))\n",
    "print(len(tokens))\n",
    "print(len(tokens.unique()))"
   ]
  },
  {
   "cell_type": "markdown",
   "metadata": {},
   "source": [
    "### Trace Clustering"
   ]
  },
  {
   "cell_type": "code",
   "execution_count": null,
   "metadata": {},
   "outputs": [],
   "source": [
    "\n",
    "# \"activity_binary\": lr.get_binary_representation,\n",
    "# \"activity_frequency\": lr.get_frequency_representation,\n",
    "\n",
    "# \"transitions_binary\": lr.get_binary_transitions_representation,\n",
    "# \"transitions_frequency\": lr.get_frequency_transitions_representation,\n",
    "\n",
    "# \"activity_tfidf\": lr.get_tfidf_representation,\n",
    "# \"transitions_tfidf\": lr.get_tfidf_transitions_representation,\n",
    "\n",
    "# \"activity_transitions_frequency\": lr.get_activity_transitions_frequency_representation,\n",
    "# \"activity_transitions_binary\": lr.get_activity_transitions_binary_representation"
   ]
  },
  {
   "cell_type": "code",
   "execution_count": null,
   "metadata": {},
   "outputs": [],
   "source": [
    "clustering_window_size=150\n",
    "representation = lr.get_binary_representation\n",
    "distance_list=['euclidean', 'hamming','cityblock', 'jaccard', 'cosine']"
   ]
  },
  {
   "cell_type": "code",
   "execution_count": null,
   "metadata": {},
   "outputs": [],
   "source": [
    "# model = DBSCAN(eps=0.5, min_samples=5, metric='euclidean')\n",
    "# model = DBSCAN(eps=2, min_samples=3, metric='euclidean')\n",
    "# model = DBSCAN(eps=2.5, min_samples=3, metric='euclidean')\n",
    "model = DBSCAN(eps=5, min_samples=3, metric='manhattan')\n",
    "# model = DBSCAN(eps=0.05, min_samples=3, metric='hamming')\n",
    "# model = DBSCAN(eps=0.05, min_samples=3, metric='cosine')"
   ]
  },
  {
   "cell_type": "code",
   "execution_count": null,
   "metadata": {},
   "outputs": [],
   "source": [
    "# model=KMeans(n_clusters=2, random_state=42)"
   ]
  },
  {
   "cell_type": "code",
   "execution_count": null,
   "metadata": {},
   "outputs": [],
   "source": [
    "# model= hdbscan.HDBSCAN(metric='euclidean') #, cluster_selection_method ='leaf', min_cluster_size=5, allow_single_cluster=True\n",
    "# model= hdbscan.HDBSCAN(metric='mahalanobis')\n",
    "# model= hdbscan.HDBSCAN(metric='manhattan')\n",
    "# model= hdbscan.HDBSCAN(metric='euclidean'\n",
    "#                        ,gen_min_span_tree=True\n",
    "# #                         , allow_single_cluster=True\n",
    "# #                        , cluster_selection_method='leaf'\n",
    "# #                         , min_cluster_size=int(clustering_window_size*0.1)\n",
    "# #                         , min_samples=int(clustering_window_size*0.05)\n",
    "# #                        , cluster_selection_epsilon=0.5\n",
    "# #                        \n",
    "#                       )\n",
    "\n",
    "# model = hdbscan.HDBSCAN(metric=\"cosine\",algorithm=\"generic\")\n"
   ]
  },
  {
   "cell_type": "code",
   "execution_count": null,
   "metadata": {
    "scrolled": true
   },
   "outputs": [],
   "source": [
    "# X=representation(tokens).drop_duplicates()\n",
    "# test=model.fit_predict(X.values)\n",
    "# test"
   ]
  },
  {
   "cell_type": "code",
   "execution_count": null,
   "metadata": {
    "scrolled": true
   },
   "outputs": [],
   "source": [
    "run_df, X = off_sc.run_offline_clustering_window(\n",
    "    tokens,\n",
    "    representation,\n",
    "    model,\n",
    "    distance_list,\n",
    "    clustering_window_size,\n",
    "#     activity_binary,\n",
    "    sliding_window=False,\n",
    "    sliding_step=1\n",
    ")"
   ]
  },
  {
   "cell_type": "code",
   "execution_count": null,
   "metadata": {
    "scrolled": true
   },
   "outputs": [],
   "source": [
    "run_df"
   ]
  },
  {
   "cell_type": "code",
   "execution_count": null,
   "metadata": {
    "scrolled": true
   },
   "outputs": [],
   "source": [
    "for i in run_df.columns:\n",
    "    print(i)\n",
    "    try:\n",
    "        run_df[i].plot(figsize=(16,4),subplots=True)\n",
    "        plts.plot_drift_vertical_lines(len(tokens), label=\"True drift\")\n",
    "        plt.legend()\n",
    "        plt.show()\n",
    "    except:\n",
    "        pass"
   ]
  },
  {
   "cell_type": "code",
   "execution_count": null,
   "metadata": {
    "scrolled": false
   },
   "outputs": [],
   "source": [
    "from sklearn.manifold import TSNE\n",
    "df_subset = X.iloc[0:clustering_window_size]\n",
    "tsne = TSNE(n_components=2, perplexity=20, n_iter=1000)\n",
    "tsne_results = tsne.fit_transform(df_subset)\n",
    "\n",
    "df_subset['tsne-2d-one'] = tsne_results[:,0]\n",
    "df_subset['tsne-2d-two'] = tsne_results[:,1]\n",
    "plt.figure(figsize=(16,10))\n",
    "sns.scatterplot(\n",
    "    x=\"tsne-2d-one\"\n",
    "    , y=\"tsne-2d-two\"\n",
    "#     ,hue=\"y\"\n",
    "    ,palette=sns.color_palette(\"hls\", 10)\n",
    "    ,data=df_subset\n",
    "    ,legend=\"full\"\n",
    "    ,alpha=0.3\n",
    ")"
   ]
  },
  {
   "cell_type": "markdown",
   "metadata": {},
   "source": [
    "### Drift Detection"
   ]
  },
  {
   "cell_type": "code",
   "execution_count": null,
   "metadata": {
    "scrolled": true
   },
   "outputs": [],
   "source": [
    "metric = \"avg_MSE\"\n",
    "\n",
    "drifts, not_drifts,  info = dd.detect_concept_drift(\n",
    "    run_df,\n",
    "    metric,\n",
    "    rolling_window=4,\n",
    "    std_tolerance=2,\n",
    "    min_tol=0.0025,\n",
    "    verbose=False\n",
    ")\n",
    "\n",
    "# dd.get_metrics(drifts, not_drifts, y_true, window_size=clustering_window_size)"
   ]
  },
  {
   "cell_type": "code",
   "execution_count": null,
   "metadata": {
    "scrolled": true
   },
   "outputs": [],
   "source": [
    "margin_error = 2\n",
    "log_size = len(tokens)\n",
    "\n",
    "dd.get_metrics(\n",
    "    drifts\n",
    "    ,not_drifts\n",
    "    , y_true\n",
    "    , clustering_window_size\n",
    "    , log_size\n",
    "    , margin_error\n",
    ")"
   ]
  },
  {
   "cell_type": "code",
   "execution_count": null,
   "metadata": {},
   "outputs": [],
   "source": [
    "plts.plot_deteccao_drift(\n",
    "    run_df,\n",
    "    metric,\n",
    "    drifts,\n",
    "    y_true,\n",
    "    info['means'],\n",
    "    info['lowers'],\n",
    "    info['uppers'],\n",
    "    save_png=\"\"\n",
    ")"
   ]
  },
  {
   "cell_type": "markdown",
   "metadata": {},
   "source": [
    "### Drift Localization"
   ]
  },
  {
   "cell_type": "code",
   "execution_count": null,
   "metadata": {},
   "outputs": [],
   "source": [
    "y_true"
   ]
  },
  {
   "cell_type": "code",
   "execution_count": null,
   "metadata": {
    "scrolled": true
   },
   "outputs": [],
   "source": [
    "run_df"
   ]
  },
  {
   "cell_type": "code",
   "execution_count": null,
   "metadata": {
    "scrolled": true
   },
   "outputs": [],
   "source": [
    "dl.localize_drift(\n",
    "    run_df.centroids.loc[450], \n",
    "    run_df.centroids.loc[600], \n",
    "    X.columns\n",
    ")"
   ]
  },
  {
   "cell_type": "code",
   "execution_count": null,
   "metadata": {
    "scrolled": true
   },
   "outputs": [],
   "source": [
    "# Result of drift localization in the ground truth drifts\n",
    "\n",
    "dl.localize_all_drifts(\n",
    "    run_df,\n",
    "    [x + clustering_window_size for x in y_true], \n",
    "    clustering_window_size,\n",
    "    X.columns\n",
    ")"
   ]
  },
  {
   "cell_type": "code",
   "execution_count": null,
   "metadata": {},
   "outputs": [],
   "source": [
    "# Result of drift localization in all predicted drifts\n",
    "\n",
    "dl.localize_all_drifts(\n",
    "    run_df,\n",
    "    drifts, \n",
    "    clustering_window_size,\n",
    "    activity_binary.columns\n",
    ")"
   ]
  },
  {
   "cell_type": "code",
   "execution_count": null,
   "metadata": {},
   "outputs": [],
   "source": []
  },
  {
   "cell_type": "code",
   "execution_count": null,
   "metadata": {},
   "outputs": [],
   "source": []
  }
 ],
 "metadata": {
  "kernelspec": {
   "display_name": "Python 3",
   "language": "python",
   "name": "python3"
  },
  "language_info": {
   "codemirror_mode": {
    "name": "ipython",
    "version": 3
   },
   "file_extension": ".py",
   "mimetype": "text/x-python",
   "name": "python",
   "nbconvert_exporter": "python",
   "pygments_lexer": "ipython3",
   "version": "3.7.6"
  }
 },
 "nbformat": 4,
 "nbformat_minor": 2
}
